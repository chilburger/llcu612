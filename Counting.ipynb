{
 "cells": [
  {
   "cell_type": "markdown",
   "metadata": {},
   "source": [
    "# Making it Count\n",
    "<b>Mini-assignment #3 </b><br>\n",
    "Counting values from Jane Austen texts<br>\n",
    "It took a lot of time to get to this point. <br>"
   ]
  },
  {
   "cell_type": "code",
   "execution_count": 1,
   "metadata": {},
   "outputs": [
    {
     "data": {
      "text/plain": [
       "['austen\\\\1790 Love And Freindship.txt',\n",
       " 'austen\\\\1805 Lady Susan.txt',\n",
       " 'austen\\\\1811 Sense and Sensibility.txt',\n",
       " 'austen\\\\1813 Pride and Prejudice.txt',\n",
       " 'austen\\\\1814 Mansfield Park.txt',\n",
       " 'austen\\\\1815 Emma.txt',\n",
       " 'austen\\\\1818 Northanger Abbey.txt',\n",
       " 'austen\\\\1818 Persuasion.txt']"
      ]
     },
     "execution_count": 1,
     "metadata": {},
     "output_type": "execute_result"
    }
   ],
   "source": [
    "import glob\n",
    "textFiles = glob.glob(\"austen/*txt\")\n",
    "textFiles"
   ]
  },
  {
   "cell_type": "code",
   "execution_count": 2,
   "metadata": {},
   "outputs": [
    {
     "name": "stdout",
     "output_type": "stream",
     "text": [
      "austen\\1790 Love And Freindship.txt has 184984 characters\n",
      "austen\\1805 Lady Susan.txt has 127290 characters\n",
      "austen\\1811 Sense and Sensibility.txt has 673687 characters\n",
      "austen\\1813 Pride and Prejudice.txt has 684768 characters\n",
      "austen\\1814 Mansfield Park.txt has 883278 characters\n",
      "austen\\1815 Emma.txt has 883027 characters\n",
      "austen\\1818 Northanger Abbey.txt has 433410 characters\n",
      "austen\\1818 Persuasion.txt has 466852 characters\n",
      "total characters:  4337296\n"
     ]
    }
   ],
   "source": [
    "totalCharacters = 0\n",
    "for textFile in textFiles: #for loop to count characters in the text files\n",
    "    f = open(textFile, \"r\",encoding=\"utf-8-sig\") #For some reason a couple txt files required the utf-8-sig encoding to be read.\n",
    "    textString = f.read() #reads the text and stores it in textString\n",
    "    f.close() #closes the text\n",
    "    chars = len(textString) #counts the characters in textString\n",
    "    print(textFile, \"has\", chars, \"characters\") #prints the amount of characters in textString\n",
    "    totalCharacters += chars #increments total number of characters after each textString is read\n",
    "print(\"total characters: \", totalCharacters)"
   ]
  },
  {
   "cell_type": "markdown",
   "metadata": {},
   "source": [
    "In the section above, I was able to get the character count for each of the texts, as well as the total character count from the entire corpus. I had been getting a 'unicodeDecodeError' but I was able to Google a solution. The utf-8-sig encoding seemed to fix the error."
   ]
  },
  {
   "cell_type": "code",
   "execution_count": 4,
   "metadata": {},
   "outputs": [
    {
     "name": "stdout",
     "output_type": "stream",
     "text": [
      "The word 'love' is used 48 times in austen\\1790 Love And Freindship.txt\n",
      "The word 'like' is used 30 times in austen\\1790 Love And Freindship.txt\n",
      "------------------------------\n",
      "The word 'love' is used 29 times in austen\\1805 Lady Susan.txt\n",
      "The word 'like' is used 29 times in austen\\1805 Lady Susan.txt\n",
      "------------------------------\n",
      "The word 'love' is used 124 times in austen\\1811 Sense and Sensibility.txt\n",
      "The word 'like' is used 183 times in austen\\1811 Sense and Sensibility.txt\n",
      "------------------------------\n",
      "The word 'love' is used 122 times in austen\\1813 Pride and Prejudice.txt\n",
      "The word 'like' is used 222 times in austen\\1813 Pride and Prejudice.txt\n",
      "------------------------------\n",
      "The word 'love' is used 205 times in austen\\1814 Mansfield Park.txt\n",
      "The word 'like' is used 285 times in austen\\1814 Mansfield Park.txt\n",
      "------------------------------\n",
      "The word 'love' is used 191 times in austen\\1815 Emma.txt\n",
      "The word 'like' is used 336 times in austen\\1815 Emma.txt\n",
      "------------------------------\n",
      "The word 'love' is used 85 times in austen\\1818 Northanger Abbey.txt\n",
      "The word 'like' is used 137 times in austen\\1818 Northanger Abbey.txt\n",
      "------------------------------\n",
      "The word 'love' is used 71 times in austen\\1818 Persuasion.txt\n",
      "The word 'like' is used 139 times in austen\\1818 Persuasion.txt\n",
      "------------------------------\n",
      "The word 'love' is used 875 times in total.\n",
      "The word 'like' is used 1361 times in total.\n"
     ]
    }
   ],
   "source": [
    "loveTotal = 0 #defines loveTotal\n",
    "likeTotal = 0 #defines likeTotal\n",
    "for textFile in textFiles: #for loop to count words in a text\n",
    "    f = open(textFile, \"r\",encoding=\"utf-8-sig\") #opens the text and stores as f\n",
    "    textString = f.read() #stores text from f in textString\n",
    "    wordCounter = {} #word counter function \n",
    "    with open(textFile,'r',encoding=\"utf-8-sig\") as fh: \n",
    "      for line in fh:\n",
    "        word_list = line.replace(',','').replace('\\'','').replace('.','').replace(';','').replace('\"','').replace('?','').replace(')','').replace('(','').replace('!','').lower().split()\n",
    "        # Replacing punctuation, making the string lowercase and split to new line.\n",
    "        for word in word_list:\n",
    "          if word not in wordCounter:#Adding the word into the wordCounter dictionary.\n",
    "            wordCounter[word] = 1\n",
    "          else:\n",
    "            wordCounter[word] = wordCounter[word] + 1 #if the word is already in the dictionary update increment by 1.\n",
    "    f.close()\n",
    "    print(\"The word 'love' is used\", textString.count(\"love\"), \"times in\", textFile)\n",
    "    print(\"The word 'like' is used\", textString.count(\"like\"), \"times in\", textFile)\n",
    "    print('-' * 30) #prints the separation dotted line\n",
    "    loveTotal += textString.count(\"love\") #tally the count of love after each text file\n",
    "    likeTotal += textString.count(\"like\") #tally the count of like after each text file\n",
    "print(\"The word 'love' is used\", loveTotal, \"times in total.\")\n",
    "print(\"The word 'like' is used\", likeTotal, \"times in total.\")"
   ]
  },
  {
   "cell_type": "markdown",
   "metadata": {},
   "source": [
    "The code required to tally up the instances of 'love' or 'like' throughout all the documents (loveTotal and likeTotal) needed to be included within the for loop. This is very important, otherwise it only gives the last stored value, which would be from Persuasion.txt. I strugged with this for quite some time. The 'total characters' example helped me realize my issue there.<br><p>"
   ]
  },
  {
   "cell_type": "code",
   "execution_count": null,
   "metadata": {},
   "outputs": [],
   "source": []
  }
 ],
 "metadata": {
  "kernelspec": {
   "display_name": "Python 3",
   "language": "python",
   "name": "python3"
  },
  "language_info": {
   "codemirror_mode": {
    "name": "ipython",
    "version": 3
   },
   "file_extension": ".py",
   "mimetype": "text/x-python",
   "name": "python",
   "nbconvert_exporter": "python",
   "pygments_lexer": "ipython3",
   "version": "3.7.1"
  }
 },
 "nbformat": 4,
 "nbformat_minor": 2
}
