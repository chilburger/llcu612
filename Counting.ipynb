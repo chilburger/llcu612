{
 "cells": [
  {
   "cell_type": "code",
   "execution_count": 15,
   "metadata": {},
   "outputs": [
    {
     "name": "stdout",
     "output_type": "stream",
     "text": [
      "This string has 550332 characters\n"
     ]
    }
   ],
   "source": [
    "import urllib.request\n",
    "poeUrl = \"http://www.gutenberg.org/files/2147/2147-0.txt\"\n",
    "poeString = urllib.request.urlopen(poeUrl).read().decode().strip()\n",
    "print(\"This string has\", len(poeString), \"characters\")"
   ]
  },
  {
   "cell_type": "code",
   "execution_count": 16,
   "metadata": {},
   "outputs": [
    {
     "name": "stdout",
     "output_type": "stream",
     "text": [
      "This string has 550,332 characters\n"
     ]
    }
   ],
   "source": [
    "poeStringLen = len(poeString)\n",
    "poeStringLenFormatted = \"{:,}\".format(poeStringLen) # format mini-language\n",
    "print(\"This string has\", poeStringLenFormatted, \"characters\")"
   ]
  },
  {
   "cell_type": "code",
   "execution_count": 17,
   "metadata": {},
   "outputs": [
    {
     "data": {
      "text/plain": [
       "'\\ufeffProject Gutenberg’s The '"
      ]
     },
     "execution_count": 17,
     "metadata": {},
     "output_type": "execute_result"
    }
   ],
   "source": [
    "poeString[:25]"
   ]
  },
  {
   "cell_type": "code",
   "execution_count": 18,
   "metadata": {},
   "outputs": [
    {
     "name": "stdout",
     "output_type": "stream",
     "text": [
      "First character: ﻿\n",
      "Last character .\n",
      "First 25 characters: ﻿Project Gutenberg’s The \n",
      "Last 25 characters: to hear about new eBooks.\n",
      "Characters 8 to 25:  Gutenberg’s The Works\n"
     ]
    }
   ],
   "source": [
    "print(\"First character:\", poeString[0])\n",
    "print(\"Last character\", poeString[-1])\n",
    "print(\"First 25 characters:\", poeString[:25])\n",
    "print(\"Last 25 characters:\", poeString[-25:])\n",
    "print(\"Characters 8 to 25:\", poeString[8:30])"
   ]
  },
  {
   "cell_type": "code",
   "execution_count": 19,
   "metadata": {},
   "outputs": [
    {
     "name": "stdout",
     "output_type": "stream",
     "text": [
      "Occurrences of 'corpse': 65\n"
     ]
    }
   ],
   "source": [
    "print(\"Occurrences of 'corpse':\", poeString.count(\"corpse\"))"
   ]
  },
  {
   "cell_type": "code",
   "execution_count": 20,
   "metadata": {},
   "outputs": [
    {
     "name": "stdout",
     "output_type": "stream",
     "text": [
      "Occurrences of 'corpse': 65\n",
      "Occurrences of 'corps': 65\n",
      "Occurrences of 'Corpse': 0\n"
     ]
    }
   ],
   "source": [
    "print(\"Occurrences of 'corpse':\", poeString.count(\"corpse\"))\n",
    "print(\"Occurrences of 'corps':\", poeString.count(\"corpse\"))\n",
    "print(\"Occurrences of 'Corpse':\", poeString.count(\"Corpse\"))"
   ]
  },
  {
   "cell_type": "code",
   "execution_count": 21,
   "metadata": {},
   "outputs": [
    {
     "name": "stdout",
     "output_type": "stream",
     "text": [
      "Occurrences of 'CORPSE': 65\n"
     ]
    }
   ],
   "source": [
    "print(\"Occurrences of 'CORPSE':\", poeString.upper().count(\"CORPSE\"))"
   ]
  },
  {
   "cell_type": "code",
   "execution_count": 22,
   "metadata": {},
   "outputs": [
    {
     "name": "stdout",
     "output_type": "stream",
     "text": [
      "and (horrible to relate!) the corpse of the daughter, head\r\n",
      "\n"
     ]
    }
   ],
   "source": [
    "firstCorpus = poeString.find(\"corpse\") # the index position of the first occurrence of \"corpse\"\n",
    "context = 30 # number of characters to show on either side of the index position\n",
    "print(poeString[firstCorpus-context : firstCorpus+context])"
   ]
  },
  {
   "cell_type": "code",
   "execution_count": 23,
   "metadata": {},
   "outputs": [
    {
     "name": "stdout",
     "output_type": "stream",
     "text": [
      "THE GOLD-BUG\r\n",
      "\r\n",
      "          What ho! what ho! this f […]  it; perhaps it\r\n",
      "required a dozen--who shall tell?”\n"
     ]
    }
   ],
   "source": [
    "start = poeString.find(\"THE GOLD-BUG\")\n",
    "end = poeString.find(\"FOUR BEASTS IN ONE\")\n",
    "goldBugString = poeString[start:end].strip()\n",
    "# show start and end of goldBugString\n",
    "print(goldBugString[:50], \"[…] \", goldBugString[-50:])"
   ]
  },
  {
   "cell_type": "code",
   "execution_count": 24,
   "metadata": {},
   "outputs": [],
   "source": [
    "import os\n",
    "directory = \"data\"\n",
    "if not os.path.exists(directory):\n",
    "    os.makedirs(directory)"
   ]
  },
  {
   "cell_type": "code",
   "execution_count": 25,
   "metadata": {},
   "outputs": [],
   "source": [
    "with open(\"data/goldBug.txt\", \"w\") as f:\n",
    "    f.write(goldBugString)"
   ]
  },
  {
   "cell_type": "code",
   "execution_count": 26,
   "metadata": {},
   "outputs": [],
   "source": [
    "with open(\"data/goldBug.txt\", \"r\") as f:\n",
    "    goldBugString2 = f.read()"
   ]
  },
  {
   "cell_type": "code",
   "execution_count": 27,
   "metadata": {},
   "outputs": [
    {
     "name": "stdout",
     "output_type": "stream",
     "text": [
      "THE GOLD-BUG\n",
      "\n",
      "\n",
      "\n",
      "          What ho! what ho! this f […]  it; perhaps it\n",
      "\n",
      "required a dozen--who shall tell?”\n"
     ]
    }
   ],
   "source": [
    "print(goldBugString2[:50], \"[…] \", goldBugString2[-50:])"
   ]
  },
  {
   "cell_type": "code",
   "execution_count": 28,
   "metadata": {},
   "outputs": [
    {
     "data": {
      "text/plain": [
       "False"
      ]
     },
     "execution_count": 28,
     "metadata": {},
     "output_type": "execute_result"
    }
   ],
   "source": [
    "goldBugString == goldBugString2 # are these two strings the same?"
   ]
  },
  {
   "cell_type": "code",
   "execution_count": 29,
   "metadata": {},
   "outputs": [
    {
     "data": {
      "text/plain": [
       "['data\\\\goldBug.txt']"
      ]
     },
     "execution_count": 29,
     "metadata": {},
     "output_type": "execute_result"
    }
   ],
   "source": [
    "import glob\n",
    "textFiles = glob.glob(\"data/*txt\")\n",
    "textFiles"
   ]
  },
  {
   "cell_type": "code",
   "execution_count": 30,
   "metadata": {},
   "outputs": [
    {
     "data": {
      "text/plain": [
       "list"
      ]
     },
     "execution_count": 30,
     "metadata": {},
     "output_type": "execute_result"
    }
   ],
   "source": [
    "type(textFiles)"
   ]
  },
  {
   "cell_type": "code",
   "execution_count": 31,
   "metadata": {},
   "outputs": [
    {
     "name": "stdout",
     "output_type": "stream",
     "text": [
      "data\\goldBug.txt has 77917 characters\n",
      "total characters:  77917\n"
     ]
    }
   ],
   "source": [
    "totalCharacters = 0\n",
    "for textFile in textFiles:\n",
    "    f = open(textFile, \"r\")\n",
    "    textString = f.read()\n",
    "    f.close()\n",
    "    chars = len(textString)\n",
    "    print(textFile, \"has\", chars, \"characters\")\n",
    "    totalCharacters += chars\n",
    "print(\"total characters: \", totalCharacters)"
   ]
  },
  {
   "cell_type": "code",
   "execution_count": null,
   "metadata": {},
   "outputs": [],
   "source": []
  }
 ],
 "metadata": {
  "kernelspec": {
   "display_name": "Python 3",
   "language": "python",
   "name": "python3"
  },
  "language_info": {
   "codemirror_mode": {
    "name": "ipython",
    "version": 3
   },
   "file_extension": ".py",
   "mimetype": "text/x-python",
   "name": "python",
   "nbconvert_exporter": "python",
   "pygments_lexer": "ipython3",
   "version": "3.7.1"
  }
 },
 "nbformat": 4,
 "nbformat_minor": 2
}
