{
 "cells": [
  {
   "cell_type": "markdown",
   "metadata": {},
   "source": [
    "# Themes of Diana Gabaldon's <br>Outlander Series\n",
    "<b>LLCU 612: Final Project</b><br>\n",
    "An exploration of the <i>Outlander</i> series corpus!<br>\n",
    "Christina Hilburger & Donna Langille"
   ]
  },
  {
   "cell_type": "markdown",
   "metadata": {},
   "source": [
    "This is a theme analysis project on the <i>Outlander</i> series by Diana Gabaldon. \n",
    "This notebook provides a high-level overview of the project including methodology and findings. For a more in-depth look at our Python coding, please visit our accompanying notebook <a href=\"\">here</a>.\n",
    "\n",
    "<b>About the Series</b><br>\n",
    "The first book in the eight-book series was published in 1991. The story follows Claire, a young British woman who finds herself thrown back in time (17th century Scotland) and captured by Scottish highlanders. The book series goes on to intertwine the fictional lives of Claire and her husband Jamie and real historical events such as the Jacobite Rising.\n",
    "\n",
    "<b>Themes</b>\n",
    "In March 2018, Diana Gabaldon wrote an <a href=\"http://www.dianagabaldon.com/resources/what-i-do/one-word-speaks-volumes/\"><i>One Word Speaks Volumes</i></a> article discussing the themes for each of her novels in the series. For each book, she sums up the theme in one word:<p> \n",
    "<b>Book 1: Love<br>\n",
    "Book 2: Marriage<br>\n",
    "Book 3: Identity<br>\n",
    "Book 4: Family<br>\n",
    "Book 5: Community<br>\n",
    "Book 6: Loyalty<br>\n",
    "Book 7: Nexus<br>\n",
    "Book 8: Forgiveness<br></b>\n",
    "\n",
    "<b>Text Mining and Analysis</b>\n",
    "Out of curiosity, we explored the eight novels using text mining and analysis tools to see if the themes Gabaldon describes in her article emerged.<p>\n",
    "\n",
    "<b>Corpus Description</b>\n",
    "Each book has been separated and converted into individual text files. There are currently 8 texts in the series and each text contains between 29,000 and 50,000 words. The total count for all of the books is 3,245,008 words and 42,849 unique word forms. \n"
   ]
  },
  {
   "cell_type": "markdown",
   "metadata": {},
   "source": [
    "# Methodology"
   ]
  },
  {
   "cell_type": "markdown",
   "metadata": {},
   "source": [
    "Working on this "
   ]
  },
  {
   "cell_type": "markdown",
   "metadata": {},
   "source": [
    "# Findings"
   ]
  },
  {
   "cell_type": "markdown",
   "metadata": {},
   "source": [
    "Overall findings from the proejct adfadgadsgfasdfhaldsfj\n",
    "\n",
    "\n",
    "<b>Closer Look</b><br>\n",
    "Below we provide detail on each of the eight books, including Gabaldon's theme for each work, top words and our findings using the tools described in the methodology section above. "
   ]
  },
  {
   "cell_type": "markdown",
   "metadata": {},
   "source": [
    "# Book 1: Outlander\n",
    "<img src=\"files/image.png\"><br>\n",
    "<b>Theme:</b> Love<br>\n",
    "<b>Top five words:</b><br>\n",
    "<b>Findings:</b><br>"
   ]
  },
  {
   "cell_type": "markdown",
   "metadata": {},
   "source": [
    "# Book 2: Dragonfly in Amber\n",
    "<img src=\"files/image.png\"><br>\n",
    "<b>Theme:</b> Marriage<br>\n",
    "<b>Top five words:</b><br>\n",
    "<b>Findings:</b><br>"
   ]
  },
  {
   "cell_type": "markdown",
   "metadata": {},
   "source": [
    "# Book 3: Voyager\n",
    "<img src=\"files/image.png\"><br>\n",
    "<b>Theme:</b> Identity<br>\n",
    "<b>Top five words:</b><br>\n",
    "<b>Findings:</b><br>"
   ]
  },
  {
   "cell_type": "markdown",
   "metadata": {},
   "source": [
    "# Book 4: Drums of Autumn\n",
    "<img src=\"files/image.png\"><br>\n",
    "<b>Theme:</b> Family<br>\n",
    "<b>Top five words:</b><br>\n",
    "<b>Findings:</b><br>"
   ]
  },
  {
   "cell_type": "markdown",
   "metadata": {},
   "source": [
    "# Book 5: The Fiery Cross\n",
    "<img src=\"files/image.png\"><br>\n",
    "<b>Theme:</b> Community<br>\n",
    "<b>Top five words:</b><br>\n",
    "<b>Findings:</b><br>"
   ]
  },
  {
   "cell_type": "markdown",
   "metadata": {},
   "source": [
    "# Book 6: A Breath of Snow and Ashes\n",
    "<img src=\"files/image.png\"><br>\n",
    "<b>Theme:</b> Loyalty<br>\n",
    "<b>Top five words:</b><br>\n",
    "<b>Findings:</b><br>"
   ]
  },
  {
   "cell_type": "markdown",
   "metadata": {},
   "source": [
    "# Book 7: An Echo in the Bone\n",
    "<img src=\"files/image.png\"><br>\n",
    "<b>Theme:</b> Nexus<br>\n",
    "<b>Top five words:</b><br>\n",
    "<b>Findings:</b><br>"
   ]
  },
  {
   "cell_type": "markdown",
   "metadata": {},
   "source": [
    "# Book 8: Written in my own Heart's Blood\n",
    "<img src=\"files/image.png\"><br>\n",
    "<b>Theme:</b> Forgiveness<br>\n",
    "<b>Top five words:</b><br>\n",
    "<b>Findings:</b><br>"
   ]
  },
  {
   "cell_type": "markdown",
   "metadata": {},
   "source": [
    "# Conclusion"
   ]
  },
  {
   "cell_type": "markdown",
   "metadata": {},
   "source": [
    "Final thoughts here"
   ]
  },
  {
   "cell_type": "markdown",
   "metadata": {},
   "source": [
    "# Bibliography"
   ]
  },
  {
   "cell_type": "markdown",
   "metadata": {},
   "source": [
    "Frankel, V. E. (Ed.). (2016). Adoring Outlander: essays on fandom, genre and the female audience. McFarland.\n",
    "\n",
    "Frankel, V. E.  (Ed.) (2016). Outlander’s Sassenachs: Essays on Gender, Race, Orientation and the Other in the Novels and Television Series. McFarland & Company, Inc., Publishers. \n",
    "\n",
    "Suleiman, S. R., & Crosman, I. (Eds.). (2014). The reader in the text: Essays on audience and interpretation (Vol. 617). Princeton University Press.\n",
    "\n",
    "Barthes, R. (2001). The death of the author. Contributions in Philosophy, 83, 3-8. \n",
    "\n",
    "Foucault, M. (1979). Authorship: what is an author?. Screen, 20(1), 13-34.\n",
    "\n",
    "Elson, D. K., Dames, N., & McKeown, K. R. (2010, July). Extracting social networks from literary fiction. In Proceedings of the 48th annual meeting of the association for computational linguistics (pp. 138-147). Association for Computational Linguistics."
   ]
  }
 ],
 "metadata": {
  "kernelspec": {
   "display_name": "Python 3",
   "language": "python",
   "name": "python3"
  },
  "language_info": {
   "codemirror_mode": {
    "name": "ipython",
    "version": 3
   },
   "file_extension": ".py",
   "mimetype": "text/x-python",
   "name": "python",
   "nbconvert_exporter": "python",
   "pygments_lexer": "ipython3",
   "version": "3.7.1"
  }
 },
 "nbformat": 4,
 "nbformat_minor": 2
}
