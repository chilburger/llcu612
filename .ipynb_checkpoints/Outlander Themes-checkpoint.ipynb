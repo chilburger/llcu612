{
 "cells": [
  {
   "cell_type": "markdown",
   "metadata": {},
   "source": [
    "# Themes of Diana Gabaldon's <br>Outlander Series\n",
    "<b>LLCU 612: Final Project</b><br>\n",
    "An exploration of the <i>Outlander</i> series corpus!<br>\n",
    "Christina Hilburger & Donna Langille\n",
    "<p>\n",
    "This is a theme analysis project on the <i>Outlander</i> series by Diana Gabaldon. \n",
    "This notebook provides a high-level overview of this project and some of our findings. For a more in-depth look at the Python coding we used to do this analysis, please visit our accompanying notebook <a href=\"https://github.com/chilburger/llcu612/blob/master/Outlander%20Themes%20-%20Secondary%20Notebook.ipynb\">here</a>."
   ]
  },
  {
   "cell_type": "markdown",
   "metadata": {},
   "source": [
    "# Introduction\n",
    "\n",
    "In 2018, author Diana Gabaldon wrote a <a href=\"http://www.dianagabaldon.com/resources/what-i-do/one-word-speaks-volumes/\">blog post</a> discussing the themes of her best-selling Outlander series. The series follows Claire, a young British woman who touches a magic stone, finds herself thrown back in time to 17th century Scotland, and then captured by Scottish highlanders. The story intertwines the fictional lives of Claire, her husband Jamie, and real historical events such as the Jacobite Rising.<p>\n",
    "\n",
    "The series has grown a huge fan base since the first book was published in 1991. In 2014, the series was adapted into an Emmy nominated television series, produced by Starz, which is now in its fifth season. Despite its popularity, there has been very little literary criticism written about the Outlander series. This essay discusses the use of literary text analysis methods, specifically word frequency, to identify the themes of each novel in the Outlander series, and to explore how the themes that emerge from the textual analysis compare to the themes that the author, Diana Gabaldon, ascribes to each book."
   ]
  },
  {
   "cell_type": "code",
   "execution_count": 8,
   "metadata": {
    "scrolled": true
   },
   "outputs": [
    {
     "data": {
      "text/html": [
       "\n",
       "        <iframe\n",
       "            width=\"1368\"\n",
       "            height=\"300\"\n",
       "            src=\"//voyant-tools.org/tool/Summary/?stopList=keywords-07abe3d7353f2cae2da61ffcf9f8ac3d&corpus=fef927f1d3c1daf2983c7e3a5aa210a9\"\n",
       "            frameborder=\"0\"\n",
       "            allowfullscreen\n",
       "        ></iframe>\n",
       "        "
      ],
      "text/plain": [
       "<IPython.lib.display.IFrame at 0x229171f20b8>"
      ]
     },
     "execution_count": 8,
     "metadata": {},
     "output_type": "execute_result"
    }
   ],
   "source": [
    "from IPython.display import IFrame    \n",
    "IFrame('//voyant-tools.org/tool/Summary/?stopList=keywords-07abe3d7353f2cae2da61ffcf9f8ac3d&corpus=fef927f1d3c1daf2983c7e3a5aa210a9', width=1368, height=300)"
   ]
  },
  {
   "cell_type": "markdown",
   "metadata": {},
   "source": [
    "<b>Series Visualized</b>\n",
    "Here are a few quick-and-dirty visualizations of the entire series using <a href=\"https://voyant-tools.org/\">Voyant Tools</a>."
   ]
  },
  {
   "cell_type": "code",
   "execution_count": 10,
   "metadata": {
    "scrolled": true
   },
   "outputs": [
    {
     "data": {
      "text/html": [
       "\n",
       "        <iframe\n",
       "            width=\"453\"\n",
       "            height=\"406\"\n",
       "            src=\"//voyant-tools.org/tool/Cirrus/?stopList=keywords-07abe3d7353f2cae2da61ffcf9f8ac3d&whiteList=&corpus=fef927f1d3c1daf2983c7e3a5aa210a9\"\n",
       "            frameborder=\"0\"\n",
       "            allowfullscreen\n",
       "        ></iframe>\n",
       "        "
      ],
      "text/plain": [
       "<IPython.lib.display.IFrame at 0x229171f2748>"
      ]
     },
     "execution_count": 10,
     "metadata": {},
     "output_type": "execute_result"
    }
   ],
   "source": [
    "from IPython.display import IFrame    \n",
    "IFrame('//voyant-tools.org/tool/Cirrus/?stopList=keywords-07abe3d7353f2cae2da61ffcf9f8ac3d&whiteList=&corpus=fef927f1d3c1daf2983c7e3a5aa210a9', width=453, height=406)"
   ]
  },
  {
   "cell_type": "markdown",
   "metadata": {},
   "source": [
    "# Methodology\n",
    "\n",
    "While perhaps it would be possible to read all eight books and use traditional literary analysis to answer this question, textual analysis can offer a faster way to “read” the texts and perhaps illuminate unique word counts or occurrences that could otherwise go unnoticed. We believe a close-reading of the text in conjunction with textual analysis could provide a more comprehensive understanding of the themes in the corpus. \n",
    "<p>\n",
    "Originally we were going to use topic modelling to identify the themes in each novel but we found that topic modelling would not be the most appropriate method for our analysis. We explored the idea of using either MALLET or the Genism library with Python. In order to grasp a better understanding of topic modelling, we experimented with the topic modelling tool in Voyant. Ted Underwood (2012) describes the process of topic modelling as “assign[ing] words to topics randomly and then just keep improving the model, to make your guess more internally consistent, until the model reaches an equilibrium that is as consistent as the collection allows”. We experimented by trying multiple numbers of topics: 5, 10, 15, and 20. The assigned topics in Voyant did not form a “coherent semantic domain”; the tool required too much improvising and fine-tuning to make the tool effective for each text in our corpus (Saxton, 2018). We decided that it would be quicker and more effective to apply the themes to the texts ourselves. \n",
    "<p>\n",
    "Our corpus is comprised of eight books in the Outlander series. Each book has been separated and converted into individual text files. Each text contains between 29,000 and 50,000 words. The total count for all of the books is 3,245,008 words and 42,849 unique word forms. We applied pre-processing steps to our corpus which includes adding stopwords, changing all words to lowercase letters, and tokenizing each word. In order to identify a topic within each text, we created eight separate arrays that correspond with the eight themes from the author’s article. The arrays contain a variety of words that we decided capture the themes. For each book, we printed a series of graphs that show the amount of times those words in the theme appear. \n",
    "<p>\n",
    "One of the challenges of creating these theme arrays was choosing the proper words, and the number of words, to represent each theme. We used two strategies: the WordNet lexical database and the Outlander Fandom Wiki. The Outlander Fandom Wiki is a valuable resource that summarizes the main plots of each novel and includes information on book characters and settings. The wiki was specifically helpful for identifying character names and nicknames for the identity theme. The WordNet lexical database was useful for identifying hypernyms and hyponyms. We were initially hesitant that choosing character names for the identity theme would be skew the results but this did not seem to have any major effect on the comparisons. \n",
    "<p>\n",
    "We also used the article by Gabaldon to help contextualize the words for the themes. For example, when discussing the theme of love, Gabaldon describes the sexual and romantic love between Jamie and Claire, the platonic love between friends, and the love for family. For this theme, we chose words that would describe each of these different kinds of loves, as well as the actions that people make when they love someone (e.g. hug or kiss). This strategy was also helpful for the themes identity, family, and community. We also used Gabaldon’s descriptions of the themes as a guideline for identifying character or place names that would be pertinent to each of the themes and then used the fandom wiki to include any alternative names or shorthands.  \n",
    "<p>\n",
    "Some of the themes were more challenging in terms of coming up with words to represent them because they were more abstract (e.g. nexus and loyalty). In these two cases, the WordNet lexical database was especially helpful for identifying hyponyms, hypernyms, and sister words. You can see difference in distribution represented on the graph with the word occurrences for the loyalty and nexus themes being overall less frequent. <p>"
   ]
  },
  {
   "cell_type": "markdown",
   "metadata": {},
   "source": [
    "# Results\n",
    "\n",
    "Our graphs show that the themes that Gabaldon ascribes to each book are not the most prevalent themes in the book; in fact, each theme arises most frequently in every other novel but the one that it is supposed to. For example, the first book in the series is titled Outlander. Gabaldon claims that the theme for this book is love. She writes, “. . .  almost every relationship in the book rests on love, and the entire story is a testament to the power of love”. However, according to our analysis, love as a theme is more prominent in every other novel in the series but Outlander. \n",
    "<p>\n",
    "These results might tell us more about series’ authorship than the text itself. Barthes (1967) argued that “to give a text an Author is to impose a limit on that text, to furnish it with a final signified, to close the writing”. Gabaldon challenges Barthes “death of the author” when she publicly and authoritatively designates a theme for each of her novels. \n",
    "This instance is not the only time Gabaldon has positioned herself as Author. She often writes publicly about her books and her characters and she is famously known for her participation in her fan communities. Jennifer Phillips and Katharina Freund (2016) have written extensively about it in their book chapter, “Engaging with Herself: Fandom and Authorship in the Age of Tumblr”. Gabaldon frequently writes to her fans on Twitter and Facebook and participates in comic cons and Outlander themed events. She also notoriously composed an anti-fan fiction policy for her works. In a 2010 blog post (which has since been deleted), she wrote “my position on fan-fic is pretty clear: I think it’s immoral, I _know_ it’s illegal, and it makes me want to barf whenever I’ve inadvertently encountered some of it involving my characters.” Gabaldon’s stronghold on her literary series could be one of the reasons why few scholars have critiqued the texts. However, our results suggest that Gabaldon’s imposed themes for each book in her series are not the most dominant theme in the books. \n",
    "<p>\n",
    "Our results may also provide hints as to what genre the Outlander series belongs too. While the first Outlander book won the Romance Writers of America “Best Romance Novel of the Year Award” in 1991, Diana Gabaldon has said that she doesn’t believe that the Outlander series is a romance novel (Vineyard, 2016). However, our results show that both the themes of love and marriage are very prominent in all of the books in the series. The family theme even contains fewer words than some of the other theme arrays and yet it is still the most prominent. "
   ]
  },
  {
   "cell_type": "markdown",
   "metadata": {},
   "source": [
    "<b>Closer Look</b><br>\n",
    "\n",
    "For each book, Gabaldon sums up the theme in one word:<p> \n",
    "    <b>Book 1: Love<br>\n",
    "    Book 2: Marriage<br>\n",
    "    Book 3: Identity<br>\n",
    "    Book 4: Family<br>\n",
    "    Book 5: Community<br>\n",
    "    Book 6: Loyalty<br>\n",
    "    Book 7: Nexus<br>\n",
    "    Book 8: Forgiveness</b><br>\n",
    "    \n",
    " <b>Theme Words</b><br>\n",
    " <b>Love</b><br>\n",
    " adore, admire, care, cherish, enamored, fond, long, affection, love, like, embrace, feel, kiss, caress, hold, hug, tender<br>\n",
    "<b>Marriage</b><br>\n",
    "wedding, matrimony, husband, wife, spouse, bride, companion, partner, mate, mrs, union<br>\n",
    "<b>Identity</b><br>\n",
    "identity, claire beauchamp, dr. randall, la dame blance, conjure-woman, healer, lady jane, white witch, white raven, sorcha, madonna, claire randall, sassenach, jamie, mactavish, dunbonnet, red jamie, mac dubh, mackenzie, alexander malcolm, jamie roy, captain alessandro, etienne marcel de provac alexandre, bear-killer, husband, wife, partner, mother, \"father\", \"son\", daughter, english, scottish, laird<br>\n",
    "<b>Family</b><br>\n",
    "family, mother, father, brother, sister, aunt, grandmother, grandfather, parent, uncle, sibiling, daughter, son, da, mama, papa, mum, brother-in-law, cousin<br>\n",
    "<b>Community</b><br>\n",
    "community, clan, fellowship, company, grouping, comradery, friend, neighborhood, territory, district, settlement, village, tenants, leader, laird<br>\n",
    "<b>Loyalty</b><br>\n",
    "loyalty, sacrifice, allegiance, devotion, honesty, honor, faith, commitment<br>\n",
    "<b>Nexus</b><br>\n",
    "unwavering, bond, connection, link, group, linkage, linking<br>\n",
    "<b>Forgiveness</b><br>\n",
    "forgive, pardon, blame, forgiver, forgiveness, mercifulness, mercy, remit, excuse, justify, absolve, free, condone, concede, yield, grant, mercy, apologize<br>\n",
    "Below are some details on each of the eight books, including Gabaldon's described themes, top words and the top themes that emerged for the texts.<p>\n",
    "    \n",
    " "
   ]
  },
  {
   "cell_type": "markdown",
   "metadata": {},
   "source": [
    "# Book 1: Outlander\n",
    "<img src=\"https://github.com/chilburger/llcu612/blob/master/outlanderimages/outlander.jpg?raw=true\" ALIGN=\"left\" /><br>\n",
    "<font size=\"5\"><b>Theme: Love</b></font><br><p>\n",
    "<b>Top five words:</b> jamie, back, one, could, though<br><p>\n",
    "<b>Findings:</b> While love is the second-most common theme of this book, the top theme that emerged was family.\n",
    "\n",
    "\n",
    "<br>"
   ]
  },
  {
   "cell_type": "markdown",
   "metadata": {},
   "source": [
    "# Book 2: Dragonfly in Amber\n",
    "<img src=\"https://github.com/chilburger/llcu612/blob/master/outlanderimages/dragonfly.jpg?raw=true\" ALIGN=\"left\" /><br>\n",
    "<font size=\"5\"><b>Theme: Marriage</b></font><br><p>\n",
    "<b>Top five words:</b> jamie, one, back, could, would <br><p>\n",
    "<b>Findings:</b> Similarly to the first book, family is the most common theme for <i>Dragonfly in Amber</i>. Aside from <i>Drums of Autumn</i> (Book 4), this book actually had the lowest count for marriage-themed words.<br>"
   ]
  },
  {
   "cell_type": "markdown",
   "metadata": {},
   "source": [
    "# Book 3: Voyager\n",
    "<img src=\"https://github.com/chilburger/llcu612/blob/master/outlanderimages/voyager.jpeg?raw=true\" ALIGN=\"left\" /><br>\n",
    "<font size=\"5\"><b>Theme: Identity</b></font><br>\n",
    "<b>Top five words:</b> jamie, one, back, hand, could <br>\n",
    "<b>Findings:</b><br>"
   ]
  },
  {
   "cell_type": "markdown",
   "metadata": {},
   "source": [
    "# Book 4: Drums of Autumn\n",
    "<img src=\"https://github.com/chilburger/llcu612/blob/master/outlanderimages/autumn.jpg?raw=true\" ALIGN=\"left\" height=\"290\" width=\"215\" /><br>\n",
    "<font size=\"5\"><b>Theme: Family</b></font><br>\n",
    "<b>Top five words:</b> jamie, could, back, one, would <br>\n",
    "<b>Findings:</b><br>"
   ]
  },
  {
   "cell_type": "markdown",
   "metadata": {},
   "source": [
    "# Book 5: The Fiery Cross\n",
    "<img src=\"https://github.com/chilburger/llcu612/blob/master/outlanderimages/fierycross.jpg?raw=true\" ALIGN=\"left\" /><br>\n",
    "<font size=\"5\"><b>Theme: Community</b></font><br>\n",
    "<b>Top five words: </b>jamie, one, roger, back, though<br>\n",
    "<b>Findings:</b><br>"
   ]
  },
  {
   "cell_type": "markdown",
   "metadata": {},
   "source": [
    "# Book 6: A Breath of Snow and Ashes\n",
    "<img src=\"https://github.com/chilburger/llcu612/blob/master/outlanderimages/snowandashes.jpg?raw=true\" ALIGN=\"left\" /><br>\n",
    "<font size=\"5\"><b>Theme: Loyalty</b></font><br>\n",
    "<b>Top five words:</b> jamie, one, back, though, would<br>\n",
    "<b>Findings:</b><br>"
   ]
  },
  {
   "cell_type": "markdown",
   "metadata": {},
   "source": [
    "# Book 7: An Echo in the Bone\n",
    "<img src=\"https://github.com/chilburger/llcu612/blob/master/outlanderimages/echointhebone.jpg?raw=true\" ALIGN=\"left\" /><br>\n",
    "<font size=\"5\"><b>Theme: Nexus</b></font><br>\n",
    "<b>Top five words:</b> one, though, would, back, could<br>\n",
    "<b>Findings:</b><br>"
   ]
  },
  {
   "cell_type": "markdown",
   "metadata": {},
   "source": [
    "# Book 8: Written in my own Heart's Blood\n",
    "<img src=\"https://github.com/chilburger/llcu612/blob/master/outlanderimages/writteninmyownblood.jpg?raw=true\" ALIGN=\"left\" /><br>\n",
    "<font size=\"5\"><b>Theme: Forgiveness</b></font><br>\n",
    "<b>Top five words:</b> back, one, could, though, jamie<br>\n",
    "<b>Findings:</b><br>"
   ]
  },
  {
   "cell_type": "markdown",
   "metadata": {},
   "source": [
    "# Conclusion"
   ]
  },
  {
   "cell_type": "markdown",
   "metadata": {},
   "source": [
    "We created themes in Python by assigning words to an array, using the WordNet database and a fandom wiki, and searched for the frequency of these themes across the entire corpus. We compared these frequencies and visualized them using a bar graph. This analysis shows that the themes that the author attributes to each novel are actually not the most dominant themes. The graph also shows us that the themes of love and marriage are substantially prevalent throughout the entire series; this result is significant because the genre of the Outlander series is widely debated among fans. This computational method allows us to quickly see the distribution of themes across the entire corpus (which contains 3,245,008 words). The results of our study suggest that the theme of a book can, and should, be defined in other ways beyond an author’s interpretation. By analyzing the words within a novel, we may be led to more interesting understandings of its theme and its genre. \n"
   ]
  },
  {
   "cell_type": "markdown",
   "metadata": {},
   "source": [
    "# Works Cited"
   ]
  },
  {
   "cell_type": "markdown",
   "metadata": {},
   "source": [
    "Barthes, R. (1967). The death of the author. Contributions in Philosophy, 83, pp, 3-8. Retrieved from http://sites.tufts.edu/english292b/files/2012/01/Barthes-The-Death-of-the-Author.pdf\n",
    "\n",
    "Gabaldon, D. (2018, March 21). One word speaks volumes: themes of the novels. Diana Gabaldon [website]. Retrieved from http://www.dianagabaldon.com/resources/what-i-do/one-word-speaks-volumes/\n",
    "\n",
    "Kate. (10 May, 2010). Diana Gabaldon & fanfic followup. Livejournal [blog]. Retrieved from https://kate-nepveu.livejournal.com/483239.html\n",
    "\n",
    "Underwood, T. (2012, April 7). Topic modeling made just simple enough. The Stone and the Shell [blog]. Retrieved from https://tedunderwood.com/2012/04/07/topic-modeling-made-just-simple-enough/?fbclid=IwAR1KO-CZKoMn3H9xzQe9V6UwiXLL57lCC-p7-4tDGPAQzaSg2y1-Zlk6Pqg \n",
    "\n",
    "Phillips, J., & Freund, K. (2016). Engaging with “Herself”: Fandom and authorship in the age of Tumblr. Adoring Outlander: Essays on Fandom, Genre and the Female Audience. pp. 23-43. \n",
    "https://books.google.ca/books?hl=en&lr=&id=w7WaCwAAQBAJ&oi=fnd&pg=PA23&dq=author+authority+outlander&ots=_OFOk13_E7&sig=97op6e5f307F36ToVTPt9pq8TFY#v=onepage&q=author%20authority%20outlander&f=false\n",
    "\n",
    "Saxton, M., D. (2018). A gentle introduction to topic modelling. Theological Librarianship 11(1). pp. 18-21.\n",
    "\n",
    "Vineyard, J. (18 June, 2016). Diana Gabaldon on why Outlander isn’t really a romance and writing her first episode. Vulture. Retrieved from https://www.vulture.com/2016/06/diana-gabaldon-outlander-isnt-really-a-romance.html "
   ]
  }
 ],
 "metadata": {
  "kernelspec": {
   "display_name": "Python 3",
   "language": "python",
   "name": "python3"
  },
  "language_info": {
   "codemirror_mode": {
    "name": "ipython",
    "version": 3
   },
   "file_extension": ".py",
   "mimetype": "text/x-python",
   "name": "python",
   "nbconvert_exporter": "python",
   "pygments_lexer": "ipython3",
   "version": "3.7.1"
  }
 },
 "nbformat": 4,
 "nbformat_minor": 2
}
