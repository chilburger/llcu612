{
 "cells": [
  {
   "cell_type": "markdown",
   "metadata": {},
   "source": [
    "# Out Out Damn Speaker!\n",
    "<b>LLCU 612: Mini-assignment #2</b><br>\n",
    "Converting text - removing stage directions, characters & everything else! <br>\n",
    "<u>- Keepin' speeches -</u>"
   ]
  },
  {
   "cell_type": "code",
   "execution_count": 41,
   "metadata": {},
   "outputs": [],
   "source": [
    "import urllib.request\n",
    "\n",
    "# this function simply fetches the contents of a URL\n",
    "def fetch(url):\n",
    "    response = urllib.request.urlopen(url) # open for reading\n",
    "    return response.read() # read and return"
   ]
  },
  {
   "cell_type": "code",
   "execution_count": 42,
   "metadata": {},
   "outputs": [
    {
     "data": {
      "text/plain": [
       "b\"\\xef\\xbb\\xbf***The Project Gutenberg's Etext of Shakespeare's First Folio***\\r\\n********************The Tragedie of Macbeth*********************\\r\\n\\r\\nThis is our 3rd edition of most of these plays.  See the index.\\r\\n\\r\\n\\r\\nCopyright laws are changing all over the world, be sure to check\\r\\nthe copyright laws for your \""
      ]
     },
     "execution_count": 42,
     "metadata": {},
     "output_type": "execute_result"
    }
   ],
   "source": [
    "url = \"http://www.gutenberg.org/cache/epub/2264/pg2264.txt\" # URL to use\n",
    "source = fetch(url) # fetch URL\n",
    "source [0:300] # preview"
   ]
  },
  {
   "cell_type": "markdown",
   "metadata": {},
   "source": [
    "The text printed above was imported from Project Gutenberg's '2264' version of <i>Macbeth</i>. Only the first 300 characters are set to print in this preview. I selected 300 for the preview because I needed to see how the linebreaks were done (so I could remove them later.)"
   ]
  },
  {
   "cell_type": "code",
   "execution_count": 43,
   "metadata": {},
   "outputs": [],
   "source": [
    "from bs4 import BeautifulSoup\n",
    "\n",
    "# this function extracts the text from the screenplay\n",
    "def soupIt(source):\n",
    "    soup = BeautifulSoup(source) # parse the source document\n",
    "    return soup.find(\"\").find(\"\").text.strip() # return the plain text (no tags)"
   ]
  },
  {
   "cell_type": "markdown",
   "metadata": {},
   "source": [
    "BeautifulSoup strips the text of html, leaving only the plain text behind. In the example for class, soup.find(\"pre\") was used because \"pre\" was the html body of the script. On the Gutenburg website, the body is not labeled so we leave the quotes blank."
   ]
  },
  {
   "cell_type": "code",
   "execution_count": 49,
   "metadata": {},
   "outputs": [
    {
     "data": {
      "text/plain": [
       "\"***The Project Gutenberg's Etext of Shakespeare's First Folio***\\r\\n********************The Tragedie of Macbeth*********************\\r\\n\\r\\nThis is our 3rd edition of most of these plays.  See the index.\\r\\n\\r\\n\\r\\nCopyright laws are changing all over the world, be sure to check\\r\\nthe copyright laws for your cou\""
      ]
     },
     "execution_count": 49,
     "metadata": {},
     "output_type": "execute_result"
    }
   ],
   "source": [
    "text = soupIt(source) # extract text from source\n",
    "text[0:300] # preview"
   ]
  },
  {
   "cell_type": "markdown",
   "metadata": {},
   "source": [
    "Here we are calling the 'soupIt' function and storing the result in 'text' & previewing the first 300 characters."
   ]
  },
  {
   "cell_type": "code",
   "execution_count": 45,
   "metadata": {},
   "outputs": [],
   "source": [
    "import re\n",
    "\n",
    "directions = r'^\\s{2,3}\\w+.' # regular expression to avoid one tab only at start of line\n",
    "\n",
    "# this function cleans the text by removing names and multiple new lines\n",
    "def clean(text):\n",
    "    lines = re.sub(r'\\r\\n', \"\\r\\n\", text).split(\"\\r\\n\") # create list from new line\n",
    "    return [l for l in lines if not re.match(directions, l)] # create list from non-match lines"
   ]
  },
  {
   "cell_type": "code",
   "execution_count": 46,
   "metadata": {},
   "outputs": [
    {
     "data": {
      "text/plain": [
       "[\"But Treasons Capitall, confess'd, and prou'd,\",\n",
       " 'Haue ouerthrowne him',\n",
       " '',\n",
       " 'The greatest is behinde. Thankes for your paines.',\n",
       " 'Doe you not hope your Children shall be Kings,',\n",
       " 'When those that gaue the Thane of Cawdor to me,',\n",
       " \"Promis'd no lesse to them\",\n",
       " '',\n",
       " 'Might yet enkindle you vnto the Crowne,',\n",
       " \"Besides the Thane of Cawdor. But 'tis strange:\",\n",
       " 'And oftentimes, to winne vs to our harme,',\n",
       " 'The Instruments of Darknesse tell vs Truths,',\n",
       " \"Winne vs with honest Trifles, to betray's\",\n",
       " 'In deepest consequence.',\n",
       " 'Cousins, a word, I pray you',\n",
       " '',\n",
       " 'As happy Prologues to the swelling Act',\n",
       " 'Of the Imperiall Theame. I thanke you Gentlemen:',\n",
       " 'This supernaturall solliciting',\n",
       " 'Cannot be ill; cannot be good.']"
      ]
     },
     "execution_count": 46,
     "metadata": {},
     "output_type": "execute_result"
    }
   ],
   "source": [
    "screenplay = clean(text) # clean text\n",
    "screenplay[600:620] # preview"
   ]
  },
  {
   "cell_type": "markdown",
   "metadata": {},
   "source": [
    "This calls the 'clean' function to perform the same actions that we did in Atom, which removes the character names from the screenplay."
   ]
  },
  {
   "cell_type": "code",
   "execution_count": 51,
   "metadata": {},
   "outputs": [
    {
     "data": {
      "text/plain": [
       "['    I would, while it was smiling in my face,',\n",
       " \"    Have pluck'd my nipple from his boneless gums\",\n",
       " \"    And dash'd the brains out had I so sworn as you\",\n",
       " '    Have done to this.',\n",
       " '    But screw your courage to the sticking-place',\n",
       " \"    And we'll not fail. When Duncan is asleep-\",\n",
       " \"    Whereto the rather shall his day's hard journey\",\n",
       " '    Soundly invite him- his two chamberlains',\n",
       " '    Will I with wine and wassail so convince',\n",
       " '    That memory, the warder of the brain,',\n",
       " '    Shall be a fume and the receipt of reason',\n",
       " '    A limbeck only. When in swinish sleep',\n",
       " '    Their drenched natures lie as in a death,',\n",
       " '    What cannot you and I perform upon',\n",
       " '    The unguarded Duncan? What not put upon',\n",
       " '    His spongy officers, who shall bear the guilt',\n",
       " '    Of our great quell?',\n",
       " '    For thy undaunted mettle should compose',\n",
       " '    Nothing but males. Will it not be received,',\n",
       " \"    When we have mark'd with blood those sleepy two\"]"
      ]
     },
     "execution_count": 51,
     "metadata": {},
     "output_type": "execute_result"
    }
   ],
   "source": [
    "screenplay2url = \"http://www.gutenberg.org/cache/epub/1129/pg1129.txt\"\n",
    "screenplay2 = clean(soupIt(fetch(screenplay2url))) # call nested functions\n",
    "screenplay2[700:720] # preview"
   ]
  },
  {
   "cell_type": "markdown",
   "metadata": {},
   "source": [
    "This is using nested functions to clean another version of <i>Macbeth<i>.<br><p>\n",
    "    <font size = \"3\"> :) </font><br><p>\n",
    "      <b>FINIS.</b> <br>"
   ]
  }
 ],
 "metadata": {
  "kernelspec": {
   "display_name": "Python 3",
   "language": "python",
   "name": "python3"
  },
  "language_info": {
   "codemirror_mode": {
    "name": "ipython",
    "version": 3
   },
   "file_extension": ".py",
   "mimetype": "text/x-python",
   "name": "python",
   "nbconvert_exporter": "python",
   "pygments_lexer": "ipython3",
   "version": "3.7.1"
  }
 },
 "nbformat": 4,
 "nbformat_minor": 2
}
