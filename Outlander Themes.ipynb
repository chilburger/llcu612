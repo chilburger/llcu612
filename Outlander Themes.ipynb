{
 "cells": [
  {
   "cell_type": "markdown",
   "metadata": {},
   "source": [
    "# Themes of Diana Gabaldon's <br>Outlander Series\n",
    "<b>LLCU 612: Final Project</b><br>\n",
    "An exploration of the <i>Outlander</i> series corpus!<br>\n",
    "Christina Hilburger & Donna Langille"
   ]
  },
  {
   "cell_type": "markdown",
   "metadata": {},
   "source": [
    "This is a theme analysis project on the <i>Outlander</i> series by Diana Gabaldon. \n",
    "This notebook provides a high-level overview of this project and some of our findings. For a more in-depth look at the Python coding we used to do this analysis, please visit our accompanying notebook <a href=\"https://github.com/chilburger/llcu612/blob/master/Outlander%20Themes%20-%20Secondary%20Notebook.ipynb\">here</a>.\n",
    "\n",
    "<b>About the Series</b><br>\n",
    "The first book of this eight-book series was published in 1991. The story follows Claire, a young British woman who finds herself thrown back in time (17th century Scotland) and captured by Scottish highlanders. The book series goes on to intertwine the fictional lives of Claire and her husband Jamie and real historical events such as the Jacobite Rising.<p>\n",
    "\n",
    "<b>Themes</b><br>\n",
    "In March 2018, Diana Gabaldon wrote the article, <a href=\"http://www.dianagabaldon.com/resources/what-i-do/one-word-speaks-volumes/\"><i>One Word Speaks Volumes</i></a>, discussing the themes for each of her novels in the series. For each book, she sums up the theme in one word:<p> \n",
    "<b>Book 1: Love<br>\n",
    "Book 2: Marriage<br>\n",
    "Book 3: Identity<br>\n",
    "Book 4: Family<br>\n",
    "Book 5: Community<br>\n",
    "Book 6: Loyalty<br>\n",
    "Book 7: Nexus<br>\n",
    "Book 8: Forgiveness<br></b>\n",
    "    \n",
    "<b>Series Summary</b>\n",
    "Here is a quick summary of the corpus from <a href=\"https://voyant-tools.org/\">Voyant Tools</a>.\n"
   ]
  },
  {
   "cell_type": "code",
   "execution_count": 8,
   "metadata": {
    "scrolled": true
   },
   "outputs": [
    {
     "data": {
      "text/html": [
       "\n",
       "        <iframe\n",
       "            width=\"1368\"\n",
       "            height=\"300\"\n",
       "            src=\"//voyant-tools.org/tool/Summary/?stopList=keywords-07abe3d7353f2cae2da61ffcf9f8ac3d&corpus=fef927f1d3c1daf2983c7e3a5aa210a9\"\n",
       "            frameborder=\"0\"\n",
       "            allowfullscreen\n",
       "        ></iframe>\n",
       "        "
      ],
      "text/plain": [
       "<IPython.lib.display.IFrame at 0x229171f20b8>"
      ]
     },
     "execution_count": 8,
     "metadata": {},
     "output_type": "execute_result"
    }
   ],
   "source": [
    "from IPython.display import IFrame    \n",
    "IFrame('//voyant-tools.org/tool/Summary/?stopList=keywords-07abe3d7353f2cae2da61ffcf9f8ac3d&corpus=fef927f1d3c1daf2983c7e3a5aa210a9', width=1368, height=300)"
   ]
  },
  {
   "cell_type": "markdown",
   "metadata": {},
   "source": [
    "<b>Series Visualized</b>\n",
    "Here are a few quick-and-dirty visualizations of the entire series using <a href=\"https://voyant-tools.org/\">Voyant Tools</a>."
   ]
  },
  {
   "cell_type": "code",
   "execution_count": 10,
   "metadata": {},
   "outputs": [
    {
     "data": {
      "text/html": [
       "\n",
       "        <iframe\n",
       "            width=\"453\"\n",
       "            height=\"406\"\n",
       "            src=\"//voyant-tools.org/tool/Cirrus/?stopList=keywords-07abe3d7353f2cae2da61ffcf9f8ac3d&whiteList=&corpus=fef927f1d3c1daf2983c7e3a5aa210a9\"\n",
       "            frameborder=\"0\"\n",
       "            allowfullscreen\n",
       "        ></iframe>\n",
       "        "
      ],
      "text/plain": [
       "<IPython.lib.display.IFrame at 0x229171f2748>"
      ]
     },
     "execution_count": 10,
     "metadata": {},
     "output_type": "execute_result"
    }
   ],
   "source": [
    "from IPython.display import IFrame    \n",
    "IFrame('//voyant-tools.org/tool/Cirrus/?stopList=keywords-07abe3d7353f2cae2da61ffcf9f8ac3d&whiteList=&corpus=fef927f1d3c1daf2983c7e3a5aa210a9', width=453, height=406)"
   ]
  },
  {
   "cell_type": "markdown",
   "metadata": {},
   "source": [
    "<b>Text Mining and Analysis</b><br>\n",
    "Out of curiosity, we explored these eight novels using text mining and analysis tools to see if the themes Gabaldon describes in her article emerged.<p> Maybe do a very basic review of these types of projects and their limitations?\n",
    "\n",
    "<b>Corpus Description</b><br>\n",
    "Each book has been separated and converted into individual text files. There are currently 8 texts in the series and each text contains between 29,000 and 50,000 words. The total count for all of the books is 3,245,008 words and 42,849 unique word forms. "
   ]
  },
  {
   "cell_type": "markdown",
   "metadata": {},
   "source": [
    "# Methodology"
   ]
  },
  {
   "cell_type": "markdown",
   "metadata": {},
   "source": [
    "As discussed in the accompanying notebook of this project, the author of the <i>Outlander</i> series, Diana Gabaldon, described the themes running through each of these texts. \n",
    "\n",
    "<b>Pre-processing</b><br>\n",
    "To prepare the text for analysis we preformed the following standard steps:<br>\n",
    "•Made text lowercase<br>\n",
    "•Removed stopwords<br>\n",
    "•Tokenized words<br>\n"
   ]
  },
  {
   "cell_type": "markdown",
   "metadata": {},
   "source": [
    "# Findings"
   ]
  },
  {
   "cell_type": "markdown",
   "metadata": {},
   "source": [
    "Overall findings from the proejct adfadgadsgfasdfhaldsfj\n",
    "\n",
    "\n",
    "<b>Closer Look</b><br>\n",
    "Below we provide some basic details on each of the eight books, including Gabaldon's described themes, top words and our findings (frequency comparision? whatever we use) using the tools described in the methodology section above. "
   ]
  },
  {
   "cell_type": "markdown",
   "metadata": {},
   "source": [
    "# Book 1: Outlander\n",
    "<img src=\"https://github.com/chilburger/llcu612/blob/master/outlanderimages/outlander.jpg?raw=true\" ALIGN=\"left\" /><br>\n",
    "<font size=\"5\"><b>Theme: Love</b></font><br>\n",
    "<b>Top five words:</b> jamie, back, one, could, though<br>\n",
    "<b>Findings:</b><br>"
   ]
  },
  {
   "cell_type": "markdown",
   "metadata": {},
   "source": [
    "# Book 2: Dragonfly in Amber\n",
    "<img src=\"https://github.com/chilburger/llcu612/blob/master/outlanderimages/dragonfly.jpg?raw=true\" ALIGN=\"left\" /><br>\n",
    "<font size=\"5\"><b>Theme: Marriage</b></font><br>\n",
    "<b>Top five words:</b> jamie, one, back, could, would <br>\n",
    "<b>Findings:</b><br>"
   ]
  },
  {
   "cell_type": "markdown",
   "metadata": {},
   "source": [
    "# Book 3: Voyager\n",
    "<img src=\"https://github.com/chilburger/llcu612/blob/master/outlanderimages/voyager.jpeg?raw=true\" ALIGN=\"left\" /><br>\n",
    "<font size=\"5\"><b>Theme: Identity</b></font><br>\n",
    "<b>Top five words:</b> jamie, one, back, hand, could <br>\n",
    "<b>Findings:</b><br>"
   ]
  },
  {
   "cell_type": "markdown",
   "metadata": {},
   "source": [
    "# Book 4: Drums of Autumn\n",
    "<img src=\"https://github.com/chilburger/llcu612/blob/master/outlanderimages/autumn.jpg?raw=true\" ALIGN=\"left\" height=\"290\" width=\"215\" /><br>\n",
    "<font size=\"5\"><b>Theme: Family</b></font><br>\n",
    "<b>Top five words:</b> jamie, could, back, one, would <br>\n",
    "<b>Findings:</b><br>"
   ]
  },
  {
   "cell_type": "markdown",
   "metadata": {},
   "source": [
    "# Book 5: The Fiery Cross\n",
    "<img src=\"https://github.com/chilburger/llcu612/blob/master/outlanderimages/fierycross.jpg?raw=true\" ALIGN=\"left\" /><br>\n",
    "<font size=\"5\"><b>Theme: Community</b></font><br>\n",
    "<b>Top five words: </b>jamie, one, roger, back, though<br>\n",
    "<b>Findings:</b><br>"
   ]
  },
  {
   "cell_type": "markdown",
   "metadata": {},
   "source": [
    "# Book 6: A Breath of Snow and Ashes\n",
    "<img src=\"https://github.com/chilburger/llcu612/blob/master/outlanderimages/snowandashes.jpg?raw=true\" ALIGN=\"left\" /><br>\n",
    "<font size=\"5\"><b>Theme: Loyalty</b></font><br>\n",
    "<b>Top five words:</b> jamie, one, back, though, would<br>\n",
    "<b>Findings:</b><br>"
   ]
  },
  {
   "cell_type": "markdown",
   "metadata": {},
   "source": [
    "# Book 7: An Echo in the Bone\n",
    "<img src=\"https://github.com/chilburger/llcu612/blob/master/outlanderimages/echointhebone.jpg?raw=true\" ALIGN=\"left\" /><br>\n",
    "<font size=\"5\"><b>Theme: Nexus</b></font><br>\n",
    "<b>Top five words:</b> one, though, would, back, could<br>\n",
    "<b>Findings:</b><br>"
   ]
  },
  {
   "cell_type": "markdown",
   "metadata": {},
   "source": [
    "# Book 8: Written in my own Heart's Blood\n",
    "<img src=\"https://github.com/chilburger/llcu612/blob/master/outlanderimages/writteninmyownblood.jpg?raw=true\" ALIGN=\"left\" /><br>\n",
    "<font size=\"5\"><b>Theme: Forgiveness</b></font><br>\n",
    "<b>Top five words:</b> back, one, could, though, jamie<br>\n",
    "<b>Findings:</b><br>"
   ]
  },
  {
   "cell_type": "markdown",
   "metadata": {},
   "source": [
    "# Conclusion"
   ]
  },
  {
   "cell_type": "markdown",
   "metadata": {},
   "source": [
    "Final thoughts here"
   ]
  },
  {
   "cell_type": "markdown",
   "metadata": {},
   "source": [
    "# Bibliography"
   ]
  },
  {
   "cell_type": "markdown",
   "metadata": {},
   "source": [
    "Frankel, V. E. (Ed.). (2016). Adoring Outlander: essays on fandom, genre and the female audience. McFarland.\n",
    "\n",
    "Frankel, V. E.  (Ed.) (2016). Outlander’s Sassenachs: Essays on Gender, Race, Orientation and the Other in the Novels and Television Series. McFarland & Company, Inc., Publishers. \n",
    "\n",
    "Suleiman, S. R., & Crosman, I. (Eds.). (2014). The reader in the text: Essays on audience and interpretation (Vol. 617). Princeton University Press.\n",
    "\n",
    "Barthes, R. (2001). The death of the author. Contributions in Philosophy, 83, 3-8. \n",
    "\n",
    "Foucault, M. (1979). Authorship: what is an author?. Screen, 20(1), 13-34.\n",
    "\n",
    "Elson, D. K., Dames, N., & McKeown, K. R. (2010, July). Extracting social networks from literary fiction. In Proceedings of the 48th annual meeting of the association for computational linguistics (pp. 138-147). Association for Computational Linguistics."
   ]
  }
 ],
 "metadata": {
  "kernelspec": {
   "display_name": "Python 3",
   "language": "python",
   "name": "python3"
  },
  "language_info": {
   "codemirror_mode": {
    "name": "ipython",
    "version": 3
   },
   "file_extension": ".py",
   "mimetype": "text/x-python",
   "name": "python",
   "nbconvert_exporter": "python",
   "pygments_lexer": "ipython3",
   "version": "3.7.1"
  }
 },
 "nbformat": 4,
 "nbformat_minor": 2
}
