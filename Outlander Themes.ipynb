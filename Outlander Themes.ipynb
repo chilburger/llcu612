{
 "cells": [
  {
   "cell_type": "markdown",
   "metadata": {},
   "source": [
    "# Themes in Diana Gabaldon's Outlander Series\n",
    "<b>LLCU 612: Final Project</b><br>\n",
    "Christina Hilburger & Donna Langille\n",
    "<p>\n",
    "This is a theme analysis project on the <i>Outlander</i> series by Diana Gabaldon. \n",
    "This notebook provides a high-level overview of this project and some of our findings. For a more in-depth look at the Python coding we used to do this analysis, please visit our accompanying notebook <a href=\"https://github.com/chilburger/llcu612/blob/master/Outlander%20Themes%20-%20Secondary%20Notebook.ipynb\">here</a>."
   ]
  },
  {
   "cell_type": "markdown",
   "metadata": {},
   "source": [
    "# Introduction\n",
    "\n",
    "In 2018, author Diana Gabaldon wrote a <a href=\"http://www.dianagabaldon.com/resources/what-i-do/one-word-speaks-volumes/\">blog post</a> discussing the themes in her best-selling <i>Outlander</i> series. The series follows Claire, a young British woman who touches a magic stone, finds herself thrown back in time to 17th century Scotland, and then captured by Scottish highlanders. The story intertwines the fictional lives of Claire, her husband Jamie, and real historical events such as the Jacobite Rising.<p>\n",
    "\n",
    "The series has grown a huge fan base since the first book was published in 1991. In 2014, the series was adapted into an Emmy nominated television series, produced by Starz, which is now in its fifth season. Despite its popularity, there has been very little literary criticism written about the <i>Outlander</i> series. This essay discusses the use of literary text analysis methods, specifically word frequency, to identify the themes of each novel in the <i>Outlander</i> series, and to explore how the themes that emerge from the textual analysis compare to the themes that the author, Diana Gabaldon, ascribes to each book."
   ]
  },
  {
   "cell_type": "markdown",
   "metadata": {},
   "source": [
    "# Methodology\n",
    "\n",
    "While perhaps it would be possible to read all eight books and use traditional literary analysis to answer this question, textual analysis can offer a faster way to “read” the texts and perhaps illuminate unique word counts or occurrences that could otherwise go unnoticed. We believe a close-reading of the text in conjunction with textual analysis could provide a more comprehensive understanding of the themes in the corpus. \n",
    "<p>\n",
    "Originally we were going to use topic modelling to identify the themes in each novel but we found that topic modelling would not be the most appropriate method for our analysis. We explored the idea of using either MALLET or the Genism library with Python. In order to grasp a better understanding of topic modelling, we experimented with the topic modelling tool in Voyant. Ted Underwood (2012) describes the process of topic modelling as “assign[ing] words to topics randomly and then just keep improving the model, to make your guess more internally consistent, until the model reaches an equilibrium that is as consistent as the collection allows”. We experimented by trying multiple numbers of topics: 5, 10, 15, and 20. The assigned topics in Voyant did not form a “coherent semantic domain”; the tool required too much improvising and fine-tuning to make the tool effective for each text in our corpus (Saxton, 2018). We decided that it would be quicker and more effective to apply the themes to the texts ourselves. \n",
    "<p>\n",
    "Our corpus is comprised of eight books in the <i>Outlander</i> series. Each book has been separated and converted into individual text files. Each text contains between 29,000 and 50,000 words. The total count for all of the books is 3,245,008 words and 42,849 unique word forms. We applied pre-processing steps to our corpus which includes adding stopwords, changing all words to lowercase letters, and tokenizing each word. In order to identify a topic within each text, we created eight separate arrays that correspond with the eight themes from the author’s article. An array is a data structure consisting of an ordered collection of items of a single type i.e. an indexed list (. The arrays contain a variety of words that we decided capture the themes. For each book, we printed a series of graphs that show the amount of times those words in the theme appear. \n",
    "<p>\n",
    "One of the challenges of creating these theme arrays was choosing the proper words, and the number of words, to represent each theme. We used two strategies: the WordNet lexical database and the <i>Outlander</i> Fandom Wiki. The <i>Outlander</i> Fandom Wiki is a valuable resource that summarizes the main plots of each novel and includes information on book characters and settings. The wiki was specifically helpful for identifying character names and nicknames for the <i>identity</i> theme. The WordNet lexical database was useful for identifying hypernyms and hyponyms. We were initially hesitant that choosing character names for the <i>identity<i> theme would be skew the results but this did not seem to have any major effect on the comparisons. \n",
    "<p>\n",
    "We also used the article by Gabaldon to help contextualize the words for the themes. For example, when discussing the theme of <i>love</i>, Gabaldon describes the sexual and romantic love between Jamie and Claire, the platonic love between friends, and the love for family. For this theme, we chose words that would describe each of these different kinds of loves, as well as the actions that people make when they love someone (e.g. hug or kiss). This strategy was also helpful for the themes <i>identity, family, and community</i>. We also used Gabaldon’s descriptions of the themes as a guideline for identifying character or place names that would be pertinent to each of the themes and then used the fandom wiki to include any alternative names or shorthands.  \n",
    "<p>\n",
    "Some of the themes were more challenging in terms of coming up with words to represent them because they were more abstract (e.g. <i>nexus and loyalty</i>). In these two cases, the WordNet lexical database was especially helpful for identifying hyponyms, hypernyms, and sister words. You can see difference in distribution represented on the graph with the word occurrences for the <i>loyalty</i> and <i>nexus</i> themes being overall less frequent. <p>\n",
    "    \n",
    "    "
   ]
  },
  {
   "cell_type": "markdown",
   "metadata": {},
   "source": [
    "# Results\n",
    "\n",
    "For each book, Gabaldon sums up the theme in one word:<p> \n",
    "    <b>Book 1: Love<br>\n",
    "    Book 2: Marriage<br>\n",
    "    Book 3: Identity<br>\n",
    "    Book 4: Family<br>\n",
    "    Book 5: Community<br>\n",
    "    Book 6: Loyalty<br>\n",
    "    Book 7: Nexus<br>\n",
    "    Book 8: Forgiveness</b><br>\n",
    "    \n",
    "These are the words we used to describe each theme.<p>\n",
    " <b>Love</b><br>\n",
    " adore, admire, care, cherish, enamored, fond, long, affection, love, like, embrace, feel, kiss, caress, hold, hug, tender<br>\n",
    "<b>Marriage</b><br>\n",
    "wedding, matrimony, husband, wife, spouse, bride, companion, partner, mate, mrs, union<br>\n",
    "<b>Identity</b><br>\n",
    "identity, claire beauchamp, dr. randall, la dame blance, conjure-woman, healer, lady jane, white witch, white raven, sorcha, madonna, claire randall, sassenach, jamie, mactavish, dunbonnet, red jamie, mac dubh, mackenzie, alexander malcolm, jamie roy, captain alessandro, etienne marcel de provac alexandre, bear-killer, husband, wife, partner, mother, father, son, daughter, english, scottish, laird<br>\n",
    "<b>Family</b><br>\n",
    "family, mother, father, brother, sister, aunt, grandmother, grandfather, parent, uncle, sibiling, daughter, son, da, mama, papa, mum, brother-in-law, cousin<br>\n",
    "<b>Community</b><br>\n",
    "community, clan, fellowship, company, grouping, comradery, friend, neighborhood, territory, district, settlement, village, tenants, leader, laird<br>\n",
    "<b>Loyalty</b><br>\n",
    "loyalty, sacrifice, allegiance, devotion, honesty, honor, faith, commitment<br>\n",
    "<b>Nexus</b><br>\n",
    "unwavering, bond, connection, link, group, linkage, linking<br>\n",
    "<b>Forgiveness</b><br>\n",
    "forgive, pardon, blame, forgiver, forgiveness, mercifulness, mercy, remit, excuse, justify, absolve, free, condone, concede, yield, grant, mercy, apologize<br><p>\n",
    "    \n",
    "<img src=\"https://github.com/chilburger/llcu612/blob/master/outlanderimages/outlandergraph.JPG?raw=true\">\n",
    "\n",
    "    \n",
    "# Discussion \n",
    "\n",
    "Our graphs show that the themes that Gabaldon ascribes to each book are not the most prevalent themes in the book; in fact, each theme arises most frequently in every other novel but the one that it is supposed to. For example, the first book in the series is titled <i>Outlander</i>. Gabaldon claims that the theme for this book is <i>love</i>. She writes, “. . .  almost every relationship in the book rests on love, and the entire story is a testament to the power of love”. However, according to our analysis, <i>love</i> as a theme is more prominent in every other novel in the series but <i>Outlander</i>. \n",
    "<p>\n",
    "These results might tell us more about series’ authorship than the text itself. Barthes (1967) argued that “to give a text an Author is to impose a limit on that text, to furnish it with a final signified, to close the writing”. Gabaldon challenges Barthes “death of the author” when she publicly and authoritatively designates a theme for each of her novels. \n",
    "This instance is not the only time Gabaldon has positioned herself as Author. She often writes publicly about her books and her characters and she is famously known for her participation in her fan communities. Jennifer Phillips and Katharina Freund (2016) have written extensively about it in their book chapter, “Engaging with Herself: Fandom and Authorship in the Age of Tumblr”. Gabaldon frequently writes to her fans on Twitter and Facebook and participates in comic cons and <i>Outlander</i> themed events. She also notoriously composed an anti-fan fiction policy for her works. In a 2010 blog post (which has since been deleted), she wrote “my position on fan-fic is pretty clear: I think it’s immoral, I _know_ it’s illegal, and it makes me want to barf whenever I’ve inadvertently encountered some of it involving my characters.” Gabaldon’s stronghold on her literary series could be one of the reasons why few scholars have critiqued the texts. However, our results suggest that Gabaldon’s imposed themes for each book in her series are not the most dominant theme in the books. \n",
    "<p>\n",
    "Our results may also provide hints as to what genre the <i>Outlander</i> series belongs too. While the first <i>Outlander</i> book won the Romance Writers of America “Best Romance Novel of the Year Award” in 1991, Diana Gabaldon has said that she doesn’t believe that the <i>Outlander</i> series is a romance novel (Vineyard, 2016). However, our results show that both the themes of <i>love</i> and <i>family</i> are very prominent in all of the books in the series. The <i>family</i> theme even contains fewer words than most of the other theme arrays and yet it is still the most prominent. "
   ]
  },
  {
   "cell_type": "markdown",
   "metadata": {},
   "source": [
    "# Conclusion"
   ]
  },
  {
   "cell_type": "markdown",
   "metadata": {},
   "source": [
    "We created themes in Python by assigning words to an array, using the WordNet database and a fandom wiki, and searched for the frequency of these themes across the entire corpus. We compared these frequencies and visualized them using a bar graph. This analysis shows that the themes that the author attributes to each novel are actually not the most dominant themes. The graph also shows us that the themes of <i>love</i> and <i>family</i> are substantially prevalent throughout the entire series; this result is significant because the genre of the <i>Outlander</i> series is widely debated among fans. This computational method allows us to quickly see the distribution of themes across the entire corpus (which contains 3,245,008 words). The results of our study suggest that the theme of a book can, and should, be defined in other ways beyond an author’s interpretation. By analyzing the words within a novel, we may be led to more interesting understandings of its themes and its genre. "
   ]
  },
  {
   "cell_type": "markdown",
   "metadata": {},
   "source": [
    "# Works Cited"
   ]
  },
  {
   "cell_type": "markdown",
   "metadata": {},
   "source": [
    "Barthes, R. (1967). The death of the author. <i>Contributions in Philosophy, 83</i>, pp, 3-8. Retrieved from http://sites.tufts.edu/english292b/files/2012/01/Barthes-The-Death-of-the-Author.pdf\n",
    "\n",
    "Gabaldon, D. (2018, March 21). One word speaks volumes: themes of the novels. <i>Diana Gabaldon</i> [website]. Retrieved from http://www.dianagabaldon.com/resources/what-i-do/one-word-speaks-volumes/\n",
    "\n",
    "Kate. (2010, May 10). Diana Gabaldon & fanfic followup. <i>Livejournal</i> [blog]. Retrieved from https://kate-nepveu.livejournal.com/483239.html\n",
    "\n",
    "Underwood, T. (2012, April 7). Topic modeling made just simple enough. <i>The Stone and the Shell</i> [blog]. Retrieved from https://tedunderwood.com/2012/04/07/topic-modeling-made-just-simple-enough/?fbclid=IwAR1KO-CZKoMn3H9xzQe9V6UwiXLL57lCC-p7-4tDGPAQzaSg2y1-Zlk6Pqg \n",
    "\n",
    "Phillips, J., & Freund, K. (2016). Engaging with “Herself”: Fandom and authorship in the age of Tumblr. <i>Adoring Outlander: Essays on Fandom, Genre and the Female Audience.</i> pp. 23-43. \n",
    "https://books.google.ca/books?hl=en&lr=&id=w7WaCwAAQBAJ&oi=fnd&pg=PA23&dq=author+authority+outlander&ots=_OFOk13_E7&sig=97op6e5f307F36ToVTPt9pq8TFY#v=onepage&q=author%20authority%20outlander&f=false\n",
    "\n",
    "Saxton, M., D. (2018). A gentle introduction to topic modelling. <i>Theological Librarianship 11</i>(1). pp. 18-21.\n",
    "\n",
    "The Outlander Wiki (n.d.). Fandom. Retrieved from https://outlander.fandom.com/wiki/Outlander_Wiki \n",
    "\n",
    "Vineyard, J. (2016, June 18). Diana Gabaldon on why Outlander isn’t really a romance and writing her first episode. <i>Vulture</i>. Retrieved from https://www.vulture.com/2016/06/diana-gabaldon-outlander-isnt-really-a-romance.html "
   ]
  }
 ],
 "metadata": {
  "kernelspec": {
   "display_name": "Python 3",
   "language": "python",
   "name": "python3"
  },
  "language_info": {
   "codemirror_mode": {
    "name": "ipython",
    "version": 3
   },
   "file_extension": ".py",
   "mimetype": "text/x-python",
   "name": "python",
   "nbconvert_exporter": "python",
   "pygments_lexer": "ipython3",
   "version": "3.7.1"
  }
 },
 "nbformat": 4,
 "nbformat_minor": 2
}
