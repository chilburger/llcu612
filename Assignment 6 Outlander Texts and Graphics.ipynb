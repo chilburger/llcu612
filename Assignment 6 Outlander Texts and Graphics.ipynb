{
 "cells": [
  {
   "cell_type": "markdown",
   "metadata": {},
   "source": [
    "# Outlander Project!\n",
    "<b>LLCU 612: Mini-assignment #6</b><br>\n",
    "Texts & Graphics: exploration of the Outlander series corpus! <br>"
   ]
  },
  {
   "cell_type": "markdown",
   "metadata": {},
   "source": [
    "<b>Part 1: Description of Corpus</b><p>\n",
    "\n",
    "For our corpus, we chose the <i>Outlander</i> series, written by Diana Gabaldon. The first book in the series was published in 1991. The story follows Claire, a young British woman who finds herself thrown back in time (17th century Scotland) and captured by Scottish highlanders. The book series goes on to intertwine the fictional lives of Claire and her husband Jamie and real historical events such as the Jacobite Rising. In March 2018, Diana Gabaldon wrote an <a href=\"http://www.dianagabaldon.com/resources/what-i-do/one-word-speaks-volumes/\">article</a> discussing the themes for each of her novels in the popular Outlander series. For each book, she sums of the theme in one word; Book 1 is love, Book 2 is Marriage, Book 3 is Identity, Book 4 is Family, Book 5 is Community, Book 6 is Loyalty, Book 7 is Nexus and Book 8 is Forgiveness. We will use topic modelling to each of the books to see if the themes that Gabaldon describe emerge in our analysis. Additionally, we will use topic modelling on the entire corpus to see what themes emerge for the entire series, a series which has famously avoided being categorized into one genre or another. Our corpus is already compiled. Each book has been separated and converted into individual text files. There are currently 8 texts in the series and each text contains between 29,000 and 50,000 words. The total count for all of the books is 3,245,008 words and 42,849 unique word forms. "
   ]
  },
  {
   "cell_type": "markdown",
   "metadata": {},
   "source": [
    "<b>Part 2: Embedded Voyant Tool</b> <p>\n",
    "I selected the Document Terms tool to show the top word counts and relative frequency of the first book in the <i>Outlander</i> series. \"Jamie\" has the top count (1182), followed by \"hand\" (674); \"like (670); head (593); time (557). The Trend sparkline shows the distribution of the term within segments of the document.  "
   ]
  },
  {
   "cell_type": "code",
   "execution_count": 36,
   "metadata": {},
   "outputs": [
    {
     "data": {
      "text/html": [
       "\n",
       "        <iframe\n",
       "            width=\"1368\"\n",
       "            height=\"746\"\n",
       "            src=\"https://voyant-tools.org/tool/DocumentTerms/?stopList=keywords-38a7048ac5168158ca0daacc0b6f729c&corpus=fa077c0b16728e4b312c08338630c9b8\"\n",
       "            frameborder=\"0\"\n",
       "            allowfullscreen\n",
       "        ></iframe>\n",
       "        "
      ],
      "text/plain": [
       "<IPython.lib.display.IFrame at 0x29f98cde9b0>"
      ]
     },
     "execution_count": 36,
     "metadata": {},
     "output_type": "execute_result"
    }
   ],
   "source": [
    "from IPython.display import IFrame    \n",
    "IFrame('https://voyant-tools.org/tool/DocumentTerms/?stopList=keywords-38a7048ac5168158ca0daacc0b6f729c&corpus=fa077c0b16728e4b312c08338630c9b8', width=1368, height=746)"
   ]
  },
  {
   "cell_type": "markdown",
   "metadata": {},
   "source": [
    "<b>Part 3: Simple Term Frequency Graph</b>\n",
    "For this section, I also imported the first book of eight in the <i>Outlander</i> series. "
   ]
  },
  {
   "cell_type": "code",
   "execution_count": 30,
   "metadata": {},
   "outputs": [
    {
     "data": {
      "text/plain": [
       "['outlander\\\\outlander.txt']"
      ]
     },
     "execution_count": 30,
     "metadata": {},
     "output_type": "execute_result"
    }
   ],
   "source": [
    "import glob\n",
    "textFiles = glob.glob(\"outlander/*txt\")\n",
    "textFiles"
   ]
  },
  {
   "cell_type": "markdown",
   "metadata": {},
   "source": [
    "The lines below import the <i>Outlander</i> text and prints a short preview. I apologize for the odd number of characters being printed (it kinda bothers mes), but I couldn't stand the text to end mid-sentence. :) "
   ]
  },
  {
   "cell_type": "code",
   "execution_count": 29,
   "metadata": {},
   "outputs": [
    {
     "name": "stdout",
     "output_type": "stream",
     "text": [
      "OUTLANDER\n",
      "\n",
      "People disappear all the time. Ask any policeman. Better yet, ask a journalist. Disappearances are bread-and-butter to journalists.\n",
      "\n",
      "Young girls run away from home. Young children stray from their parents and are never seen again. \n"
     ]
    }
   ],
   "source": [
    "import os\n",
    "directory = \"outlander\"\n",
    "with open(\"outlander/outlander.txt\", \"r\", encoding=\"utf-8-sig\") as f:\n",
    "   outlanderString = f.read()\n",
    "print(outlanderString[:242])"
   ]
  },
  {
   "cell_type": "code",
   "execution_count": 34,
   "metadata": {},
   "outputs": [
    {
     "data": {
      "image/png": "[encoded data removed]",
      "text/plain": [
       "<Figure size 432x288 with 1 Axes>"
      ]
     },
     "metadata": {
      "needs_background": "light"
     },
     "output_type": "display_data"
    }
   ],
   "source": [
    "import nltk\n",
    "\n",
    "%matplotlib inline \n",
    "\n",
    "outlander = nltk.corpus.gutenberg.words('outlander/outlander.txt') # load words\n",
    "stopwords = nltk.corpus.stopwords.words(\"English\") # load stopwords\n",
    "# filter words that are alphabetic and not in stopword list\n",
    "words = [word.lower() for word in outlander if word[0].isalpha() and not word.lower() in stopwords]\n",
    "freqs = nltk.FreqDist(words) # build frequency list\n",
    "freqs.plot(25) # plot the top 25 words"
   ]
  },
  {
   "cell_type": "markdown",
   "metadata": {},
   "source": [
    "Here is a graph of the top 25 most frequent words. I initially had a few broken characters that I belive started appearing after switching to the utf-8 encoding. I went into the nltk folder and added \"ã\" \"ä\" \"â\" \"á\" and \"à\" to the stop word list to remove those. I am not sure if these broken characters will be problematic later. I also added \"ye\" and \"said\" to the stop word list.  \n",
    "\n",
    "I noticed the top words differed slightly from the Voyant results above. \"Back\", \"one\", \"could\" and \"though\", for example, are not included in Voyant. Voyant removed these stop words. I could add those words to my nltk folder as well. Otherwise, the top results are similar. \"Jamie\", \"hand\" and \"like\" are all included in that list.\n",
    "\n"
   ]
  },
  {
   "cell_type": "code",
   "execution_count": null,
   "metadata": {},
   "outputs": [],
   "source": []
  }
 ],
 "metadata": {
  "kernelspec": {
   "display_name": "Python 3",
   "language": "python",
   "name": "python3"
  },
  "language_info": {
   "codemirror_mode": {
    "name": "ipython",
    "version": 3
   },
   "file_extension": ".py",
   "mimetype": "text/x-python",
   "name": "python",
   "nbconvert_exporter": "python",
   "pygments_lexer": "ipython3",
   "version": "3.7.1"
  }
 },
 "nbformat": 4,
 "nbformat_minor": 2
}
